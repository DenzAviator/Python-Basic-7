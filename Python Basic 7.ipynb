{
 "cells": [
  {
   "cell_type": "markdown",
   "id": "e26f629f",
   "metadata": {},
   "source": [
    "Q.1. What are keywords in python? Using the keyword library, print all the python keywords.\n",
    "\n",
    "Keywords can be seen as a reserved words that cannot be used as ordinary identifier(variable names,functions, etc.) are ues to define the syntax and structurre of the python language."
   ]
  },
  {
   "cell_type": "code",
   "execution_count": 1,
   "id": "6c896491",
   "metadata": {},
   "outputs": [
    {
     "name": "stdout",
     "output_type": "stream",
     "text": [
      "['False', 'None', 'True', 'and', 'as', 'assert', 'async', 'await', 'break', 'class', 'continue', 'def', 'del', 'elif', 'else', 'except', 'finally', 'for', 'from', 'global', 'if', 'import', 'in', 'is', 'lambda', 'nonlocal', 'not', 'or', 'pass', 'raise', 'return', 'try', 'while', 'with', 'yield']\n"
     ]
    }
   ],
   "source": [
    "import keyword\n",
    "\n",
    "print(keyword.kwlist)"
   ]
  },
  {
   "cell_type": "code",
   "execution_count": null,
   "id": "9c06679c",
   "metadata": {},
   "outputs": [],
   "source": []
  },
  {
   "cell_type": "markdown",
   "id": "bce53b71",
   "metadata": {},
   "source": [
    "Q.2. What are the rules to create variables in python?\n",
    "\n",
    "The rules for crating variables in python:\n",
    "    \n",
    "a. Variable names MUST start with a letter on an underscore(_).\n",
    "    \n",
    "b. Variable names can have letters(both lower and uppercase), underscore and digits.\n",
    "    \n",
    "c. Variable names are case-sensitive, \"myName\" and \"myname\" would be considered different variables.\n",
    "    \n",
    "d. Python keyword(reserved words like \"if\",\"for\",\"while\" are NoT used as variables.\n",
    "      \n",
    "e. Variable names should be descriptive and meaningful, helping to convey the purpose of the variable.\n",
    "    \n",
    "f. Avoid using special characters like !,%,@,#, e.t.c\n",
    "    \n",
    "g. Avoid using single character variable names.\n",
    "    \n",
    " h. It is OK to use lowercase letters and underscores to separete words in variable names, following with underscore. For example \"my_name\"."
   ]
  },
  {
   "cell_type": "code",
   "execution_count": 2,
   "id": "737483e1",
   "metadata": {},
   "outputs": [],
   "source": [
    "# Examples of some variables\n",
    "\n",
    "age = 49\n",
    "name = \"ineuron\"\n",
    "average_grade = 84.43\n",
    "is_student = True"
   ]
  },
  {
   "cell_type": "code",
   "execution_count": null,
   "id": "80bbf8af",
   "metadata": {},
   "outputs": [],
   "source": []
  },
  {
   "cell_type": "markdown",
   "id": "3d9d9ce2",
   "metadata": {},
   "source": [
    "Q.3. What are the standards and conventions followed for the nomenclature of variables in python to improve code readability and maintainability?\n",
    "\n",
    "In python programming there are some acceptable standards and conventions for naming variables that improve the code readability and maintainability, and there are 8 of them called as PEP 8(Python Enhancement Proposal), its provides guidelines on the variable name. The below are some key points, that one should keep in mind.\n",
    "\n",
    "a. Use descriptive names: Variable names should always be descriptive and indicate the main aim or content of the variable.\n",
    "    \n",
    "b. Use lowercase letters: Variable names should be in lowercase letters, and multiple words should be separated by underscores. For example \"my_name\", \"user_name\" this convention is known as \"snake_case\".\n",
    "    \n",
    "c. Avoid reserved words: Do not usse Python reserved keywords(e.g, \"class\", \"if\", \"while\", \"for\" as variable names.\n",
    "                                                              \n",
    "d. Be consistent: If you use a specific name, make sure you use it through out your code.\n",
    "                                                              \n",
    "e. Use meaningful names for constants: Constants (variables with values that do not change) should be named using uppercase letters and underscores. For example: \"MAX_SIZE\", \"DEFAULT_TIMEOUT\".\n",
    "                                                              \n",
    "f. Use nouns or noun phrase for variables: This helps to convey the purposse or content of the variable more clearly.\n",
    "                                                              \n",
    "g. Avoid abbrevations and single-letter names.\n",
    "                                                              \n",
    "h. Use self-explanatory names for object-oriented programming: Use 'self' as the parameter of instance methods in classes.\n",
    "                                                              \n",
    "     \n",
    "  The above guidelines aim to make your code more readable and maintainable.                                                       "
   ]
  },
  {
   "cell_type": "code",
   "execution_count": null,
   "id": "cb6e24d4",
   "metadata": {},
   "outputs": [],
   "source": []
  },
  {
   "cell_type": "markdown",
   "id": "e9b7cc73",
   "metadata": {},
   "source": [
    "Q.4. What will happen if a keyword is used as a variable name?\n",
    "\n",
    "if a keyword is used as a variable name in a programming language, it will typically result in a syntax error or a compilation error. "
   ]
  },
  {
   "cell_type": "code",
   "execution_count": null,
   "id": "6a13b70e",
   "metadata": {},
   "outputs": [],
   "source": []
  },
  {
   "cell_type": "markdown",
   "id": "46c8e874",
   "metadata": {},
   "source": [
    "Q.5. For what purpose def keyword is used?\n",
    "\n",
    "The 'def' keyword in python is used to define a function. It is followed by the function name and a set of paraentheses, which may contain parameters for the function. The function body is indented below the 'ddef' statement and consists of the code that will be executed when the function is called."
   ]
  },
  {
   "cell_type": "code",
   "execution_count": 4,
   "id": "49db971e",
   "metadata": {},
   "outputs": [
    {
     "name": "stdout",
     "output_type": "stream",
     "text": [
      "Hello, Alice!\n",
      "Hello, Dennis!\n"
     ]
    }
   ],
   "source": [
    "# Example of a simple function defination\n",
    "\n",
    "def greet(name):\n",
    "    print(\"Hello, \" + name + \"!\")\n",
    "    \n",
    "greet(\"Alice\")\n",
    "greet(\"Dennis\")"
   ]
  },
  {
   "cell_type": "code",
   "execution_count": null,
   "id": "91c00443",
   "metadata": {},
   "outputs": [],
   "source": []
  },
  {
   "cell_type": "markdown",
   "id": "e8f30077",
   "metadata": {},
   "source": [
    "Q.6. What is the operation of this special character ‘\\’?\n",
    "\n",
    "\n",
    "The special character '' is called the backslash. It has several uses and functions in different contexts, depending on the programming or operating system environment. Here are some common operations associated with the backslash character:\n",
    "    \n",
    "(a). Escape character: In many programming languages and regular expressions, the backslash is used as an escape character. It allows you to use special characters. For example, if you want to include a double quote within a string that is enclosed in double quotes, you would use the backslash to escape the inner double quote like this: \"This is a \"quoted\" word.\"\n",
    "            \n",
    "(b). Regular expressions: In regular expressions, the backslash is used to give special meaning to certain characters or sequences. For example, '\\d' represents any digit, '\\s' represents any whitespace character, and '\\w' represents any alphanumeric character.\n",
    "        \n",
    "(c). Special character sequences: In some programming languages or text editors, backslashes are used to introduce special character sequences. For instance, '\\n' represents a newline character, '\\t' represents a tab character, and '\\r' represents a carriage return.\n",
    "    \n",
    "(d). File paths and directory structures: In operating systems like Windows, the backslash is used to separate directories and files in file paths. For example, \"C:\\Program Files\\Example\\file.txt\" is a file path where the backslashes indicate the hierarchy of folders leading to the file \"file.txt\" within the \"Example\" folder.\n",
    "        \n",
    "It's important to note that the specific usage and interpretation of the backslash character may vary depending on the programming language, operating system, or context in which it is used."
   ]
  },
  {
   "cell_type": "code",
   "execution_count": null,
   "id": "5e7b0c44",
   "metadata": {},
   "outputs": [],
   "source": []
  },
  {
   "cell_type": "markdown",
   "id": "28658e3e",
   "metadata": {},
   "source": [
    "Q.7. Give an example of the following conditions:\n",
    "    \n",
    "    (i) Homogeneous list \n",
    "    \n",
    "    (ii) Heterogeneous set \n",
    "    \n",
    "    (iii) Homogeneous tuple"
   ]
  },
  {
   "cell_type": "code",
   "execution_count": 9,
   "id": "6c6eac0e",
   "metadata": {},
   "outputs": [],
   "source": [
    "# (i) Homogeneous list\n",
    "\n",
    "dennis = [4, 6, 3,6,9,3,7,0]"
   ]
  },
  {
   "cell_type": "code",
   "execution_count": 10,
   "id": "bfad2428",
   "metadata": {},
   "outputs": [
    {
     "data": {
      "text/plain": [
       "[4, 6, 3, 6, 9, 3, 7, 0]"
      ]
     },
     "execution_count": 10,
     "metadata": {},
     "output_type": "execute_result"
    }
   ],
   "source": [
    "dennis"
   ]
  },
  {
   "cell_type": "code",
   "execution_count": 12,
   "id": "b6a83c1e",
   "metadata": {},
   "outputs": [],
   "source": [
    "# (ii) Heterogeneous set \n",
    "\n",
    "set = {True, 2, 35, False, \"Alice\", 3.145}"
   ]
  },
  {
   "cell_type": "code",
   "execution_count": 13,
   "id": "4434f361",
   "metadata": {},
   "outputs": [
    {
     "data": {
      "text/plain": [
       "{2, 3.145, 35, 'Alice', False, True}"
      ]
     },
     "execution_count": 13,
     "metadata": {},
     "output_type": "execute_result"
    }
   ],
   "source": [
    "set"
   ]
  },
  {
   "cell_type": "code",
   "execution_count": 14,
   "id": "e75d7154",
   "metadata": {},
   "outputs": [],
   "source": [
    "# (iii) Homogeneous tuple\n",
    "\n",
    "tuple = (\"Alice\", \"Dennis\", \"Audu\", \"Gwafan\")"
   ]
  },
  {
   "cell_type": "code",
   "execution_count": 15,
   "id": "29d2e565",
   "metadata": {},
   "outputs": [
    {
     "data": {
      "text/plain": [
       "('Alice', 'Dennis', 'Audu', 'Gwafan')"
      ]
     },
     "execution_count": 15,
     "metadata": {},
     "output_type": "execute_result"
    }
   ],
   "source": [
    "tuple"
   ]
  },
  {
   "cell_type": "code",
   "execution_count": null,
   "id": "4c1cb768",
   "metadata": {},
   "outputs": [],
   "source": []
  },
  {
   "cell_type": "markdown",
   "id": "586db054",
   "metadata": {},
   "source": [
    "Q.8. Explain the mutable and immutable data types with proper explanation & examples.\n",
    "\n",
    "1. Mutable data Types\n",
    "\n",
    "Mutable data types are ones that can be modified after they are created. This means you can change individual elements or properties of the data type without creating a new instance. Some examples of mutable data types include lists,sets, and dictionaries."
   ]
  },
  {
   "cell_type": "code",
   "execution_count": 16,
   "id": "f5caa8ff",
   "metadata": {},
   "outputs": [
    {
     "name": "stdout",
     "output_type": "stream",
     "text": [
      "[1, 5, 7, 8, 6]\n"
     ]
    }
   ],
   "source": [
    "# Mutable data type: List\n",
    "my_list = [1, 5, 7, 8, 6]\n",
    "\n",
    "print(my_list)"
   ]
  },
  {
   "cell_type": "code",
   "execution_count": 18,
   "id": "72d3cdc3",
   "metadata": {},
   "outputs": [
    {
     "name": "stdout",
     "output_type": "stream",
     "text": [
      "[10, 5, 7, 8, 6]\n"
     ]
    }
   ],
   "source": [
    "my_list[0] = 10\n",
    "print(my_list)"
   ]
  },
  {
   "cell_type": "code",
   "execution_count": null,
   "id": "779c78b9",
   "metadata": {},
   "outputs": [],
   "source": []
  },
  {
   "cell_type": "markdown",
   "id": "ef65c79c",
   "metadata": {},
   "source": [
    "b. Immutable Data Types:\n",
    "    \n",
    "    Immutable data types, cannot be modified after they are created. This means that if you want to change the value you need to create a new instance with the updated value. Examples of immutable data types include intergers, floats, strings, and tuples."
   ]
  },
  {
   "cell_type": "code",
   "execution_count": 19,
   "id": "ae5c5efd",
   "metadata": {},
   "outputs": [
    {
     "name": "stdout",
     "output_type": "stream",
     "text": [
      "Hello\n"
     ]
    }
   ],
   "source": [
    "# Immutable data type: String\n",
    "\n",
    "my_string = \"Hello\"\n",
    "print(my_string)"
   ]
  },
  {
   "cell_type": "code",
   "execution_count": 20,
   "id": "0678dd72",
   "metadata": {},
   "outputs": [
    {
     "name": "stdout",
     "output_type": "stream",
     "text": [
      "Hi\n"
     ]
    }
   ],
   "source": [
    "my_string = \"Hi\"\n",
    "print(my_string)"
   ]
  },
  {
   "cell_type": "code",
   "execution_count": null,
   "id": "0422cf35",
   "metadata": {},
   "outputs": [],
   "source": []
  },
  {
   "cell_type": "code",
   "execution_count": null,
   "id": "6a90d232",
   "metadata": {},
   "outputs": [],
   "source": [
    "Q.9. Write a code to create the given structure using only for loop. \n",
    "\n",
    "* \n",
    "\n",
    "*** \n",
    "\n",
    "***** \n",
    "\n",
    "******* \n",
    "\n",
    "*********\n"
   ]
  },
  {
   "cell_type": "code",
   "execution_count": 1,
   "id": "9fd84795",
   "metadata": {},
   "outputs": [
    {
     "name": "stdout",
     "output_type": "stream",
     "text": [
      "*\n",
      "***\n",
      "******\n",
      "**********\n",
      "***************\n"
     ]
    }
   ],
   "source": [
    "rows = 5  # Number of rows in the structure\n",
    "\n",
    "for i in range(rows):\n",
    "    for j in range(i+1):\n",
    "        print('*', end='')\n",
    "        for k in range(j):\n",
    "            print('*', end='')\n",
    "    print()"
   ]
  },
  {
   "cell_type": "code",
   "execution_count": null,
   "id": "edc0f3f0",
   "metadata": {},
   "outputs": [],
   "source": []
  },
  {
   "cell_type": "markdown",
   "id": "91973c7f",
   "metadata": {},
   "source": [
    "Q.10. Write a code to create the given structure using while loop. \n",
    "\n",
    "||||||||| \n",
    "\n",
    "||||||| \n",
    "\n",
    "||||| \n",
    "\n",
    "||| \n",
    "\n",
    "|"
   ]
  },
  {
   "cell_type": "code",
   "execution_count": 3,
   "id": "4d7af32c",
   "metadata": {},
   "outputs": [
    {
     "name": "stdout",
     "output_type": "stream",
     "text": [
      "|||||||||\n",
      "|||||||\n",
      "|||||\n",
      "|||\n",
      "|\n"
     ]
    }
   ],
   "source": [
    "rows = [9, 7, 5, 3, 1]  # Number of characters in each row\n",
    "\n",
    "i = 0\n",
    "while i < len(rows):\n",
    "    j = 0\n",
    "    while j < rows[i]:\n",
    "        print(\"|\", end='')\n",
    "        j += 1\n",
    "    print()\n",
    "    i += 1"
   ]
  },
  {
   "cell_type": "code",
   "execution_count": null,
   "id": "c492cc73",
   "metadata": {},
   "outputs": [],
   "source": []
  }
 ],
 "metadata": {
  "kernelspec": {
   "display_name": "Python 3 (ipykernel)",
   "language": "python",
   "name": "python3"
  },
  "language_info": {
   "codemirror_mode": {
    "name": "ipython",
    "version": 3
   },
   "file_extension": ".py",
   "mimetype": "text/x-python",
   "name": "python",
   "nbconvert_exporter": "python",
   "pygments_lexer": "ipython3",
   "version": "3.10.9"
  }
 },
 "nbformat": 4,
 "nbformat_minor": 5
}
